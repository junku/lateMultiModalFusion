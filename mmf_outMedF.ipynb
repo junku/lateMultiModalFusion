{
 "cells": [
  {
   "cell_type": "code",
   "execution_count": 1,
   "metadata": {},
   "outputs": [],
   "source": [
    "import pandas as pd\n",
    "pd.options.mode.chained_assignment = None  # default='warn'\n",
    "import numpy as np\n",
    "import seaborn as sns\n",
    "import matplotlib.pyplot as plt\n",
    "import plotly.graph_objects as go\n",
    "from plotly.subplots import make_subplots\n",
    "import plotly.express as px\n",
    "\n",
    "from sklearn.utils import shuffle\n",
    "from sklearn.model_selection import train_test_split\n",
    "from sklearn.preprocessing import StandardScaler\n",
    "from sklearn.preprocessing import QuantileTransformer\n",
    "from sklearn.metrics import confusion_matrix, classification_report\n",
    "from sklearn.impute import KNNImputer\n",
    "\n",
    "from sklearn.decomposition import PCA\n",
    "\n",
    "import torch\n",
    "from torch import nn\n",
    "from torch.nn import functional as F\n",
    "from torch.utils.data import Dataset,DataLoader\n",
    "import torch.optim as optim\n",
    "\n",
    "\n",
    "import optuna\n",
    "from optuna.trial import TrialState\n",
    "\n",
    "##BONUS: PYTORCH LIGHTNING\n",
    "from pytorch_lightning.core.lightning import LightningModule\n",
    "from pytorch_lightning import Trainer\n",
    "from pytorch_lightning.loggers import TensorBoardLogger\n",
    "from pytorch_lightning.callbacks.early_stopping import EarlyStopping\n",
    "\n",
    "\n",
    "\n",
    "from sklearn.metrics import roc_auc_score, f1_score, precision_score, recall_score, accuracy_score, auc, roc_curve, accuracy_score\n",
    "\n",
    "seed=42 \n",
    "\n",
    "\n",
    "plt.style.use(\"seaborn-whitegrid\")\n",
    "plt.rc(\"figure\", autolayout=True)\n",
    "plt.rc(\"axes\", labelweight=\"bold\", labelsize=\"large\", titleweight=\"bold\", titlesize=14, titlepad=10)"
   ]
  },
  {
   "cell_type": "code",
   "execution_count": 2,
   "metadata": {},
   "outputs": [],
   "source": [
    "def get_scores(y, y_pred):\n",
    "    data={'Accuracy': np.round(accuracy_score(y, y_pred),2),\n",
    "    'Precision':np.round(precision_score(y, y_pred),2),\n",
    "    'Recall':np.round(recall_score(y, y_pred),2),\n",
    "    'F1':np.round(f1_score(y, y_pred),2),\n",
    "    'ROC AUC':np.round(roc_auc_score(y, y_pred),2)}\n",
    "    scores_df = pd.Series(data).to_frame('scores')\n",
    "    return scores_df"
   ]
  },
  {
   "cell_type": "code",
   "execution_count": 3,
   "metadata": {},
   "outputs": [],
   "source": [
    "df = pd.read_csv('sample_outMed.csv')\n",
    "df = pd.get_dummies(df)\n",
    "\n",
    "train_data = df[df['split_train'] == 1]\n",
    "val_data = df[df['split_val'] == 1]\n",
    "test_data = df[df['split_test']== 1]\n",
    "\n",
    "X = df.drop(columns=['label', 'split_test', 'split_train', 'split_val', 'pe_type_central', 'pe_type_segmental', 'pe_type_subsegmental', 'pred', 'Unnamed: 0', 'idx'], axis=1)\n",
    "Y = df['label']"
   ]
  },
  {
   "cell_type": "code",
   "execution_count": 4,
   "metadata": {},
   "outputs": [],
   "source": [
    "X_train = train_data.drop(columns=['label', 'split_test', 'split_train', 'split_val', 'pe_type_central', 'pe_type_segmental', 'pe_type_subsegmental', 'pred', 'Unnamed: 0', 'idx'], axis=1)\n",
    "X_val = val_data.drop(columns=['label', 'split_test', 'split_train', 'split_val', 'pe_type_central', 'pe_type_segmental', 'pe_type_subsegmental', 'pred', 'Unnamed: 0', 'idx'], axis=1)\n",
    "X_test = test_data.drop(columns=['label', 'split_test', 'split_train', 'split_val', 'pe_type_central', 'pe_type_segmental', 'pe_type_subsegmental', 'pred', 'Unnamed: 0', 'idx'], axis=1)\n",
    "\n",
    "y_train = train_data['label']\n",
    "y_val = val_data['label']\n",
    "y_test = test_data['label']"
   ]
  },
  {
   "cell_type": "code",
   "execution_count": 5,
   "metadata": {},
   "outputs": [
    {
     "data": {
      "text/plain": [
       "(1454, 566)"
      ]
     },
     "execution_count": 5,
     "metadata": {},
     "output_type": "execute_result"
    }
   ],
   "source": [
    "X_train.shape"
   ]
  },
  {
   "cell_type": "code",
   "execution_count": 6,
   "metadata": {},
   "outputs": [],
   "source": [
    "scaler = StandardScaler()   \n",
    "X_train = scaler.fit_transform(X_train)\n",
    "X_val = scaler.transform(X_val)          \n",
    "X_test = scaler.transform(X_test)"
   ]
  },
  {
   "cell_type": "code",
   "execution_count": 7,
   "metadata": {},
   "outputs": [],
   "source": [
    "pca = PCA()\n",
    "pca.fit_transform(X_train);"
   ]
  },
  {
   "cell_type": "code",
   "execution_count": 8,
   "metadata": {},
   "outputs": [
    {
     "data": {
      "image/png": "[encoded data removed]",
      "text/plain": [
       "<Figure size 360x360 with 1 Axes>"
      ]
     },
     "metadata": {},
     "output_type": "display_data"
    }
   ],
   "source": [
    "cum_sum = np.cumsum(pca.explained_variance_ratio_)*100\n",
    "comp= [n for n in range(len(cum_sum))]\n",
    "\n",
    "plt.figure(figsize=(5,5))\n",
    "plt.plot(comp, cum_sum, marker='.')\n",
    "plt.xlabel('PCA Components')\n",
    "plt.ylabel('Cumulative Explained Variance (%)')\n",
    "plt.title('PCA')\n",
    "plt.show()"
   ]
  },
  {
   "cell_type": "code",
   "execution_count": 9,
   "metadata": {},
   "outputs": [
    {
     "name": "stdout",
     "output_type": "stream",
     "text": [
      "cuda:0\n"
     ]
    }
   ],
   "source": [
    "DEVICE = torch.device(\"cuda:0\" if torch.cuda.is_available() else \"cpu\")\n",
    "print(DEVICE)"
   ]
  },
  {
   "cell_type": "code",
   "execution_count": 10,
   "metadata": {},
   "outputs": [],
   "source": [
    "class CustomDataset:\n",
    "    def __init__(self, X_data, y_data, device=DEVICE):\n",
    "        self.X_data = X_data\n",
    "        self.y_data = y_data \n",
    "    \n",
    "    def __len__ (self):\n",
    "        return len(self.X_data)\n",
    "    \n",
    "    def __getitem__(self, index):\n",
    "        return self.X_data[index], self.y_data[index]"
   ]
  },
  {
   "cell_type": "code",
   "execution_count": 11,
   "metadata": {},
   "outputs": [],
   "source": [
    "train_data = CustomDataset(torch.FloatTensor(X_train), torch.FloatTensor(y_train.values))"
   ]
  },
  {
   "cell_type": "code",
   "execution_count": 12,
   "metadata": {},
   "outputs": [],
   "source": [
    "val_data = CustomDataset(torch.FloatTensor(X_val), torch.FloatTensor(y_val.values))"
   ]
  },
  {
   "cell_type": "code",
   "execution_count": 13,
   "metadata": {},
   "outputs": [],
   "source": [
    "test_data = CustomDataset(torch.FloatTensor(X_test), torch.FloatTensor(y_test.values))"
   ]
  },
  {
   "cell_type": "code",
   "execution_count": 14,
   "metadata": {},
   "outputs": [],
   "source": [
    "BATCHSIZE = 8"
   ]
  },
  {
   "cell_type": "code",
   "execution_count": 15,
   "metadata": {},
   "outputs": [],
   "source": [
    "train_loader = DataLoader(dataset=train_data, batch_size=BATCHSIZE)\n",
    "valid_loader = DataLoader(dataset=val_data, batch_size=2)\n",
    "test_loader = DataLoader(dataset=test_data, batch_size=2)"
   ]
  },
  {
   "cell_type": "code",
   "execution_count": 16,
   "metadata": {},
   "outputs": [],
   "source": [
    "def define_model(trial):\n",
    "    n_layers = trial.suggest_int(\"n_layers\", 1, 2)\n",
    "    layers = []\n",
    "\n",
    "    in_features = 566\n",
    "    for i in range(n_layers):\n",
    "        out_features = trial.suggest_int(\"n_units_{}\".format(i), 8, 25)\n",
    "        layers.append(nn.Linear(in_features, out_features))\n",
    "        layers.append(nn.ReLU())\n",
    "        p = trial.suggest_uniform(\"dropout_{}\".format(i), 0.2, 0.5)\n",
    "        layers.append(nn.Dropout(p))\n",
    "        in_features=out_features\n",
    "    layers.append(nn.Linear(out_features, 1))\n",
    "\n",
    "    return nn.Sequential(*layers)"
   ]
  },
  {
   "cell_type": "code",
   "execution_count": 17,
   "metadata": {},
   "outputs": [],
   "source": [
    "EPOCHS = 40"
   ]
  },
  {
   "cell_type": "code",
   "execution_count": 18,
   "metadata": {},
   "outputs": [],
   "source": [
    "def objective(trial):\n",
    "    \n",
    "    # call the define_model method\n",
    "    model = define_model(trial).to(DEVICE)\n",
    "\n",
    "    # Optimizer and loss definition\n",
    "    lr = trial.suggest_float(\"lr\", 5e-4, 1e-2, log=True)\n",
    "    optimizer =  getattr(optim, 'Adam')(model.parameters(), lr=lr)\n",
    "    criterion = nn.BCEWithLogitsLoss() \n",
    "    # Using the logit binary CE, we include the sigmoid function in the prediction output during the loss calculation\n",
    "    \n",
    "    train_acc = []\n",
    "    train_loss = []\n",
    "    \n",
    "    valid_acc = []\n",
    "    valid_loss = []\n",
    "    \n",
    "    total_step = len(train_loader)\n",
    "    total_step_val = len(valid_loader)\n",
    "\n",
    "    for epoch in range(EPOCHS):\n",
    "        \n",
    "        running_loss=0\n",
    "        correct=0\n",
    "        total=0\n",
    "        \n",
    "        #TRAINING\n",
    "\n",
    "        model.train()\n",
    "\n",
    "        for batch_idx, (X_train_batch, y_train_batch) in enumerate(train_loader):\n",
    "            X_train_batch, y_train_batch = X_train_batch.to(DEVICE), y_train_batch.to(DEVICE)\n",
    "            optimizer.zero_grad()\n",
    "            output = model(X_train_batch)\n",
    "            y_pred = torch.round(torch.sigmoid(output))\n",
    "            #LOSS\n",
    "            loss = criterion(output, y_train_batch.unsqueeze(1))\n",
    "            loss.backward()\n",
    "            optimizer.step()\n",
    "            running_loss+=loss.item() #sum all batch losses\n",
    "            #ACCURACY\n",
    "            correct += torch.sum(y_pred==y_train_batch.unsqueeze(1)).item()\n",
    "            total += y_train_batch.size(0)\n",
    "        train_acc.append(100 * correct / total) \n",
    "        train_loss.append(running_loss/total_step) #get average loss among all batches dividing total loss by the number of batches\n",
    "\n",
    "        # VALIDATION\n",
    "        correct_v = 0\n",
    "        total_v = 0\n",
    "        batch_loss = 0\n",
    "        with torch.no_grad():\n",
    "            model.eval()\n",
    "            for batch_idx, (X_valid_batch, y_valid_batch) in enumerate(valid_loader):\n",
    "                X_valid_batch,y_valid_batch=X_valid_batch.to(DEVICE),y_valid_batch.to(DEVICE)\n",
    "                #PREDICTION\n",
    "                output = model(X_valid_batch)\n",
    "                y_pred = torch.round(torch.sigmoid(output))\n",
    "                #LOSS\n",
    "                loss_v = criterion(output, y_valid_batch.unsqueeze(1))\n",
    "                batch_loss+=loss_v.item()\n",
    "                #ACCURACY\n",
    "                correct_v += torch.sum(y_pred==y_valid_batch.unsqueeze(1)).item()\n",
    "                total_v += y_valid_batch.size(0)\n",
    "            valid_acc.append(100 * correct_v / total_v)\n",
    "            valid_loss.append(batch_loss/total_step_val)\n",
    "\n",
    "        trial.report(np.mean(valid_loss), epoch)\n",
    "\n",
    "        # Handle pruning based on the intermediate value\n",
    "        if trial.should_prune():\n",
    "            raise optuna.exceptions.TrialPruned()\n",
    "            \n",
    "    return np.mean(valid_acc)"
   ]
  },
  {
   "cell_type": "code",
   "execution_count": 19,
   "metadata": {},
   "outputs": [
    {
     "name": "stderr",
     "output_type": "stream",
     "text": [
      "\u001b[32m[I 2022-04-16 16:07:25,360]\u001b[0m A new study created in memory with name: no-name-16e2b5a6-6ffd-4ab6-bad2-67e55518f0ae\u001b[0m\n",
      "\u001b[32m[I 2022-04-16 16:07:54,474]\u001b[0m Trial 0 finished with value: 44.01554404145078 and parameters: {'n_layers': 1, 'n_units_0': 11, 'dropout_0': 0.40068195197230927, 'lr': 0.00101079808665992}. Best is trial 0 with value: 44.01554404145078.\u001b[0m\n",
      "\u001b[32m[I 2022-04-16 16:08:22,573]\u001b[0m Trial 1 finished with value: 44.22279792746114 and parameters: {'n_layers': 1, 'n_units_0': 17, 'dropout_0': 0.4187060264786149, 'lr': 0.002717749093192317}. Best is trial 1 with value: 44.22279792746114.\u001b[0m\n",
      "\u001b[32m[I 2022-04-16 16:08:54,369]\u001b[0m Trial 2 finished with value: 45.16839378238342 and parameters: {'n_layers': 2, 'n_units_0': 8, 'dropout_0': 0.2615661636286679, 'n_units_1': 8, 'dropout_1': 0.25769742940173246, 'lr': 0.009221394178951528}. Best is trial 2 with value: 45.16839378238342.\u001b[0m\n",
      "\u001b[32m[I 2022-04-16 16:09:25,989]\u001b[0m Trial 3 finished with value: 44.10621761658032 and parameters: {'n_layers': 2, 'n_units_0': 16, 'dropout_0': 0.4501712977568432, 'n_units_1': 10, 'dropout_1': 0.4610328631293638, 'lr': 0.0010442315161842894}. Best is trial 2 with value: 45.16839378238342.\u001b[0m\n",
      "\u001b[32m[I 2022-04-16 16:09:57,421]\u001b[0m Trial 4 finished with value: 44.520725388601036 and parameters: {'n_layers': 2, 'n_units_0': 14, 'dropout_0': 0.2610874963755459, 'n_units_1': 12, 'dropout_1': 0.3490127819079101, 'lr': 0.000614022325595852}. Best is trial 2 with value: 45.16839378238342.\u001b[0m\n",
      "\u001b[32m[I 2022-04-16 16:09:58,218]\u001b[0m Trial 5 pruned. \u001b[0m\n",
      "\u001b[32m[I 2022-04-16 16:10:00,335]\u001b[0m Trial 6 pruned. \u001b[0m\n",
      "\u001b[32m[I 2022-04-16 16:10:01,129]\u001b[0m Trial 7 pruned. \u001b[0m\n",
      "\u001b[32m[I 2022-04-16 16:10:01,924]\u001b[0m Trial 8 pruned. \u001b[0m\n",
      "\u001b[32m[I 2022-04-16 16:10:02,722]\u001b[0m Trial 9 pruned. \u001b[0m\n",
      "\u001b[32m[I 2022-04-16 16:10:30,898]\u001b[0m Trial 10 finished with value: 44.30051813471503 and parameters: {'n_layers': 1, 'n_units_0': 25, 'dropout_0': 0.33431673681003204, 'lr': 0.009170446237111652}. Best is trial 2 with value: 45.16839378238342.\u001b[0m\n",
      "\u001b[32m[I 2022-04-16 16:10:31,711]\u001b[0m Trial 11 pruned. \u001b[0m\n",
      "\u001b[32m[I 2022-04-16 16:10:32,527]\u001b[0m Trial 12 pruned. \u001b[0m\n",
      "\u001b[32m[I 2022-04-16 16:10:33,349]\u001b[0m Trial 13 pruned. \u001b[0m\n",
      "\u001b[32m[I 2022-04-16 16:10:34,170]\u001b[0m Trial 14 pruned. \u001b[0m\n",
      "\u001b[32m[I 2022-04-16 16:10:34,980]\u001b[0m Trial 15 pruned. \u001b[0m\n",
      "\u001b[32m[I 2022-04-16 16:10:35,791]\u001b[0m Trial 16 pruned. \u001b[0m\n",
      "\u001b[32m[I 2022-04-16 16:10:36,506]\u001b[0m Trial 17 pruned. \u001b[0m\n",
      "\u001b[32m[I 2022-04-16 16:10:37,319]\u001b[0m Trial 18 pruned. \u001b[0m\n",
      "\u001b[32m[I 2022-04-16 16:10:38,133]\u001b[0m Trial 19 pruned. \u001b[0m\n",
      "\u001b[32m[I 2022-04-16 16:11:06,292]\u001b[0m Trial 20 finished with value: 44.80569948186528 and parameters: {'n_layers': 1, 'n_units_0': 22, 'dropout_0': 0.33514569985731657, 'lr': 0.00355347251949929}. Best is trial 2 with value: 45.16839378238342.\u001b[0m\n",
      "\u001b[32m[I 2022-04-16 16:11:34,071]\u001b[0m Trial 21 finished with value: 43.29015544041451 and parameters: {'n_layers': 1, 'n_units_0': 22, 'dropout_0': 0.32580102393510985, 'lr': 0.006922843151645584}. Best is trial 2 with value: 45.16839378238342.\u001b[0m\n",
      "\u001b[32m[I 2022-04-16 16:11:34,778]\u001b[0m Trial 22 pruned. \u001b[0m\n",
      "\u001b[32m[I 2022-04-16 16:11:35,479]\u001b[0m Trial 23 pruned. \u001b[0m\n",
      "\u001b[32m[I 2022-04-16 16:12:03,143]\u001b[0m Trial 24 finished with value: 44.83160621761658 and parameters: {'n_layers': 1, 'n_units_0': 19, 'dropout_0': 0.23186424728423496, 'lr': 0.003662302204356889}. Best is trial 2 with value: 45.16839378238342.\u001b[0m\n",
      "\u001b[32m[I 2022-04-16 16:12:26,341]\u001b[0m Trial 25 pruned. \u001b[0m\n",
      "\u001b[32m[I 2022-04-16 16:12:47,155]\u001b[0m Trial 26 pruned. \u001b[0m\n",
      "\u001b[32m[I 2022-04-16 16:13:13,231]\u001b[0m Trial 27 finished with value: 43.5880829015544 and parameters: {'n_layers': 1, 'n_units_0': 19, 'dropout_0': 0.3863173767456285, 'lr': 0.008066476529621468}. Best is trial 2 with value: 45.16839378238342.\u001b[0m\n",
      "\u001b[32m[I 2022-04-16 16:13:39,614]\u001b[0m Trial 28 finished with value: 43.976683937823836 and parameters: {'n_layers': 1, 'n_units_0': 21, 'dropout_0': 0.3099429437459127, 'lr': 0.005224153268321135}. Best is trial 2 with value: 45.16839378238342.\u001b[0m\n",
      "\u001b[32m[I 2022-04-16 16:13:41,726]\u001b[0m Trial 29 pruned. \u001b[0m\n",
      "\u001b[32m[I 2022-04-16 16:13:43,142]\u001b[0m Trial 30 pruned. \u001b[0m\n",
      "\u001b[32m[I 2022-04-16 16:13:43,943]\u001b[0m Trial 31 pruned. \u001b[0m\n",
      "\u001b[32m[I 2022-04-16 16:13:46,057]\u001b[0m Trial 32 pruned. \u001b[0m\n",
      "\u001b[32m[I 2022-04-16 16:13:46,780]\u001b[0m Trial 33 pruned. \u001b[0m\n",
      "\u001b[32m[I 2022-04-16 16:13:47,594]\u001b[0m Trial 34 pruned. \u001b[0m\n",
      "\u001b[32m[I 2022-04-16 16:13:49,006]\u001b[0m Trial 35 pruned. \u001b[0m\n",
      "\u001b[32m[I 2022-04-16 16:13:49,796]\u001b[0m Trial 36 pruned. \u001b[0m\n",
      "\u001b[32m[I 2022-04-16 16:13:50,585]\u001b[0m Trial 37 pruned. \u001b[0m\n",
      "\u001b[32m[I 2022-04-16 16:14:18,422]\u001b[0m Trial 38 finished with value: 43.6139896373057 and parameters: {'n_layers': 1, 'n_units_0': 22, 'dropout_0': 0.3638403901240344, 'lr': 0.00751393389579246}. Best is trial 2 with value: 45.16839378238342.\u001b[0m\n",
      "\u001b[32m[I 2022-04-16 16:14:19,211]\u001b[0m Trial 39 pruned. \u001b[0m\n",
      "\u001b[32m[I 2022-04-16 16:14:20,002]\u001b[0m Trial 40 pruned. \u001b[0m\n",
      "\u001b[32m[I 2022-04-16 16:14:47,401]\u001b[0m Trial 41 finished with value: 44.44300518134715 and parameters: {'n_layers': 1, 'n_units_0': 24, 'dropout_0': 0.33551738365508, 'lr': 0.009776635702631339}. Best is trial 2 with value: 45.16839378238342.\u001b[0m\n",
      "\u001b[32m[I 2022-04-16 16:15:15,044]\u001b[0m Trial 42 finished with value: 43.976683937823836 and parameters: {'n_layers': 1, 'n_units_0': 24, 'dropout_0': 0.3152455105858129, 'lr': 0.008179060564222886}. Best is trial 2 with value: 45.16839378238342.\u001b[0m\n",
      "\u001b[32m[I 2022-04-16 16:15:42,691]\u001b[0m Trial 43 finished with value: 44.4559585492228 and parameters: {'n_layers': 1, 'n_units_0': 23, 'dropout_0': 0.344372923102957, 'lr': 0.009950006769459582}. Best is trial 2 with value: 45.16839378238342.\u001b[0m\n",
      "\u001b[32m[I 2022-04-16 16:15:46,207]\u001b[0m Trial 44 pruned. \u001b[0m\n",
      "\u001b[32m[I 2022-04-16 16:16:14,160]\u001b[0m Trial 45 finished with value: 44.766839378238345 and parameters: {'n_layers': 1, 'n_units_0': 18, 'dropout_0': 0.25734959831781334, 'lr': 0.00857980970612899}. Best is trial 2 with value: 45.16839378238342.\u001b[0m\n",
      "\u001b[32m[I 2022-04-16 16:16:14,877]\u001b[0m Trial 46 pruned. \u001b[0m\n",
      "\u001b[32m[I 2022-04-16 16:16:15,681]\u001b[0m Trial 47 pruned. \u001b[0m\n",
      "\u001b[32m[I 2022-04-16 16:16:16,392]\u001b[0m Trial 48 pruned. \u001b[0m\n",
      "\u001b[32m[I 2022-04-16 16:16:17,198]\u001b[0m Trial 49 pruned. \u001b[0m\n",
      "\u001b[32m[I 2022-04-16 16:16:18,009]\u001b[0m Trial 50 pruned. \u001b[0m\n",
      "\u001b[32m[I 2022-04-16 16:16:45,673]\u001b[0m Trial 51 finished with value: 44.85751295336787 and parameters: {'n_layers': 1, 'n_units_0': 21, 'dropout_0': 0.2980633594147913, 'lr': 0.008867044169854265}. Best is trial 2 with value: 45.16839378238342.\u001b[0m\n",
      "\u001b[32m[I 2022-04-16 16:17:11,514]\u001b[0m Trial 52 finished with value: 43.80829015544042 and parameters: {'n_layers': 1, 'n_units_0': 20, 'dropout_0': 0.2921612027448521, 'lr': 0.00855812169028981}. Best is trial 2 with value: 45.16839378238342.\u001b[0m\n",
      "\u001b[32m[I 2022-04-16 16:17:12,153]\u001b[0m Trial 53 pruned. \u001b[0m\n",
      "\u001b[32m[I 2022-04-16 16:17:37,207]\u001b[0m Trial 54 finished with value: 44.766839378238345 and parameters: {'n_layers': 1, 'n_units_0': 20, 'dropout_0': 0.30354276094717686, 'lr': 0.007656450090898064}. Best is trial 2 with value: 45.16839378238342.\u001b[0m\n",
      "\u001b[32m[I 2022-04-16 16:17:56,441]\u001b[0m Trial 55 pruned. \u001b[0m\n",
      "\u001b[32m[I 2022-04-16 16:18:21,126]\u001b[0m Trial 56 finished with value: 43.432642487046635 and parameters: {'n_layers': 1, 'n_units_0': 21, 'dropout_0': 0.30481349171984035, 'lr': 0.007624810344768649}. Best is trial 2 with value: 45.16839378238342.\u001b[0m\n",
      "\u001b[32m[I 2022-04-16 16:18:23,019]\u001b[0m Trial 57 pruned. \u001b[0m\n",
      "\u001b[32m[I 2022-04-16 16:18:23,666]\u001b[0m Trial 58 pruned. \u001b[0m\n",
      "\u001b[32m[I 2022-04-16 16:18:27,451]\u001b[0m Trial 59 pruned. \u001b[0m\n",
      "\u001b[32m[I 2022-04-16 16:18:32,909]\u001b[0m Trial 60 pruned. \u001b[0m\n",
      "\u001b[32m[I 2022-04-16 16:18:33,467]\u001b[0m Trial 61 pruned. \u001b[0m\n",
      "\u001b[32m[I 2022-04-16 16:18:34,031]\u001b[0m Trial 62 pruned. \u001b[0m\n",
      "\u001b[32m[I 2022-04-16 16:18:34,592]\u001b[0m Trial 63 pruned. \u001b[0m\n",
      "\u001b[32m[I 2022-04-16 16:18:35,153]\u001b[0m Trial 64 pruned. \u001b[0m\n",
      "\u001b[32m[I 2022-04-16 16:18:35,779]\u001b[0m Trial 65 pruned. \u001b[0m\n",
      "\u001b[32m[I 2022-04-16 16:18:36,334]\u001b[0m Trial 66 pruned. \u001b[0m\n",
      "\u001b[32m[I 2022-04-16 16:18:36,892]\u001b[0m Trial 67 pruned. \u001b[0m\n",
      "\u001b[32m[I 2022-04-16 16:18:37,521]\u001b[0m Trial 68 pruned. \u001b[0m\n",
      "\u001b[32m[I 2022-04-16 16:18:38,625]\u001b[0m Trial 69 pruned. \u001b[0m\n",
      "\u001b[32m[I 2022-04-16 16:18:39,256]\u001b[0m Trial 70 pruned. \u001b[0m\n",
      "\u001b[32m[I 2022-04-16 16:19:00,637]\u001b[0m Trial 71 finished with value: 43.601036269430054 and parameters: {'n_layers': 1, 'n_units_0': 23, 'dropout_0': 0.34339624594974416, 'lr': 0.009952026441227262}. Best is trial 2 with value: 45.16839378238342.\u001b[0m\n",
      "\u001b[32m[I 2022-04-16 16:19:22,288]\u001b[0m Trial 72 finished with value: 44.067357512953365 and parameters: {'n_layers': 1, 'n_units_0': 23, 'dropout_0': 0.3346405449797696, 'lr': 0.009695773129381345}. Best is trial 2 with value: 45.16839378238342.\u001b[0m\n",
      "\u001b[32m[I 2022-04-16 16:19:22,853]\u001b[0m Trial 73 pruned. \u001b[0m\n",
      "\u001b[32m[I 2022-04-16 16:19:23,415]\u001b[0m Trial 74 pruned. \u001b[0m\n",
      "\u001b[32m[I 2022-04-16 16:19:23,964]\u001b[0m Trial 75 pruned. \u001b[0m\n",
      "\u001b[32m[I 2022-04-16 16:19:45,618]\u001b[0m Trial 76 finished with value: 44.067357512953365 and parameters: {'n_layers': 1, 'n_units_0': 24, 'dropout_0': 0.38215953263113445, 'lr': 0.007497934893188879}. Best is trial 2 with value: 45.16839378238342.\u001b[0m\n",
      "\u001b[32m[I 2022-04-16 16:19:46,173]\u001b[0m Trial 77 pruned. \u001b[0m\n",
      "\u001b[32m[I 2022-04-16 16:19:46,730]\u001b[0m Trial 78 pruned. \u001b[0m\n",
      "\u001b[32m[I 2022-04-16 16:19:47,356]\u001b[0m Trial 79 pruned. \u001b[0m\n",
      "\u001b[32m[I 2022-04-16 16:19:47,915]\u001b[0m Trial 80 pruned. \u001b[0m\n",
      "\u001b[32m[I 2022-04-16 16:19:49,012]\u001b[0m Trial 81 pruned. \u001b[0m\n",
      "\u001b[32m[I 2022-04-16 16:20:10,644]\u001b[0m Trial 82 finished with value: 44.31347150259067 and parameters: {'n_layers': 1, 'n_units_0': 24, 'dropout_0': 0.2587113748470902, 'lr': 0.009882183349045632}. Best is trial 2 with value: 45.16839378238342.\u001b[0m\n",
      "\u001b[32m[I 2022-04-16 16:20:11,214]\u001b[0m Trial 83 pruned. \u001b[0m\n",
      "\u001b[32m[I 2022-04-16 16:20:11,774]\u001b[0m Trial 84 pruned. \u001b[0m\n",
      "\u001b[32m[I 2022-04-16 16:20:13,952]\u001b[0m Trial 85 pruned. \u001b[0m\n",
      "\u001b[32m[I 2022-04-16 16:20:14,472]\u001b[0m Trial 86 pruned. \u001b[0m\n",
      "\u001b[32m[I 2022-04-16 16:20:15,067]\u001b[0m Trial 87 pruned. \u001b[0m\n",
      "\u001b[32m[I 2022-04-16 16:20:15,561]\u001b[0m Trial 88 pruned. \u001b[0m\n",
      "\u001b[32m[I 2022-04-16 16:20:16,056]\u001b[0m Trial 89 pruned. \u001b[0m\n",
      "\u001b[32m[I 2022-04-16 16:20:16,552]\u001b[0m Trial 90 pruned. \u001b[0m\n",
      "\u001b[32m[I 2022-04-16 16:20:17,048]\u001b[0m Trial 91 pruned. \u001b[0m\n",
      "\u001b[32m[I 2022-04-16 16:20:35,589]\u001b[0m Trial 92 finished with value: 44.20984455958549 and parameters: {'n_layers': 1, 'n_units_0': 24, 'dropout_0': 0.26069293483101197, 'lr': 0.009726346630057737}. Best is trial 2 with value: 45.16839378238342.\u001b[0m\n",
      "\u001b[32m[I 2022-04-16 16:20:54,495]\u001b[0m Trial 93 finished with value: 43.976683937823836 and parameters: {'n_layers': 1, 'n_units_0': 25, 'dropout_0': 0.243883846545549, 'lr': 0.008452486178770492}. Best is trial 2 with value: 45.16839378238342.\u001b[0m\n",
      "\u001b[32m[I 2022-04-16 16:21:13,151]\u001b[0m Trial 94 finished with value: 43.44559585492228 and parameters: {'n_layers': 1, 'n_units_0': 23, 'dropout_0': 0.23255397974729877, 'lr': 0.009966459386468458}. Best is trial 2 with value: 45.16839378238342.\u001b[0m\n",
      "\u001b[32m[I 2022-04-16 16:21:14,113]\u001b[0m Trial 95 pruned. \u001b[0m\n",
      "\u001b[32m[I 2022-04-16 16:21:14,599]\u001b[0m Trial 96 pruned. \u001b[0m\n",
      "\u001b[32m[I 2022-04-16 16:21:15,178]\u001b[0m Trial 97 pruned. \u001b[0m\n",
      "\u001b[32m[I 2022-04-16 16:21:15,668]\u001b[0m Trial 98 pruned. \u001b[0m\n",
      "\u001b[32m[I 2022-04-16 16:21:16,627]\u001b[0m Trial 99 pruned. \u001b[0m\n"
     ]
    },
    {
     "name": "stdout",
     "output_type": "stream",
     "text": [
      "Study statistics: \n",
      "  Number of finished trials:  100\n",
      "  Number of pruned trials:  73\n",
      "  Number of complete trials:  27\n",
      "Best trial:\n",
      "  Value:  45.16839378238342\n",
      "  Params: \n",
      "    n_layers: 2\n",
      "    n_units_0: 8\n",
      "    dropout_0: 0.2615661636286679\n",
      "    n_units_1: 8\n",
      "    dropout_1: 0.25769742940173246\n",
      "    lr: 0.009221394178951528\n"
     ]
    }
   ],
   "source": [
    "study = optuna.create_study(direction=\"maximize\")\n",
    "study.optimize(objective, n_trials=100)\n",
    "\n",
    "pruned_trials = study.get_trials(deepcopy=False, states=[TrialState.PRUNED])\n",
    "complete_trials = study.get_trials(deepcopy=False, states=[TrialState.COMPLETE])\n",
    "\n",
    "print(\"Study statistics: \")\n",
    "print(\"  Number of finished trials: \", len(study.trials))\n",
    "print(\"  Number of pruned trials: \", len(pruned_trials))\n",
    "print(\"  Number of complete trials: \", len(complete_trials))\n",
    "\n",
    "print(\"Best trial:\")\n",
    "trial = study.best_trial\n",
    "\n",
    "print(\"  Value: \", trial.value)\n",
    "\n",
    "print(\"  Params: \")\n",
    "\n",
    "params = []\n",
    "\n",
    "for key, value in trial.params.items():\n",
    "    params.append(value)\n",
    "    print(\"    {}: {}\".format(key, value))"
   ]
  },
  {
   "cell_type": "code",
   "execution_count": 20,
   "metadata": {},
   "outputs": [
    {
     "data": {
      "text/plain": [
       "[2, 8, 0.2615661636286679, 8, 0.25769742940173246, 0.009221394178951528]"
      ]
     },
     "execution_count": 20,
     "metadata": {},
     "output_type": "execute_result"
    }
   ],
   "source": [
    "params"
   ]
  },
  {
   "cell_type": "code",
   "execution_count": 21,
   "metadata": {},
   "outputs": [],
   "source": [
    "n_layers = params[0]\n",
    "\n",
    "units_1 = params[1]\n",
    "dropout_1 = np.round(params[2],5)\n",
    "\n",
    "lr = np.round(params[3],8)"
   ]
  },
  {
   "cell_type": "code",
   "execution_count": 22,
   "metadata": {},
   "outputs": [],
   "source": [
    "class Net(nn.Module):\n",
    "    def __init__(self):\n",
    "        super(Net, self).__init__()\n",
    "        self.layer_1 = nn.Linear(X_train.shape[1], units_1)\n",
    "        self.layer_out = nn.Linear(units_1, 1) \n",
    "        self.dropout1 = nn.Dropout(p=dropout_1)\n",
    "        \n",
    "    def forward(self, inputs):\n",
    "        x = F.relu(self.layer_1(inputs))\n",
    "        x = self.dropout1(x)\n",
    "        x = self.layer_out(x)\n",
    "        \n",
    "        return x"
   ]
  },
  {
   "cell_type": "code",
   "execution_count": 23,
   "metadata": {},
   "outputs": [
    {
     "name": "stdout",
     "output_type": "stream",
     "text": [
      "Net(\n",
      "  (layer_1): Linear(in_features=566, out_features=8, bias=True)\n",
      "  (layer_out): Linear(in_features=8, out_features=1, bias=True)\n",
      "  (dropout1): Dropout(p=0.26157, inplace=False)\n",
      ")\n"
     ]
    }
   ],
   "source": [
    "model = Net()\n",
    "model.to(DEVICE)\n",
    "print(model)"
   ]
  },
  {
   "cell_type": "code",
   "execution_count": 24,
   "metadata": {},
   "outputs": [],
   "source": [
    "criterion = nn.BCEWithLogitsLoss()\n",
    "optimizer = optim.AdamW(model.parameters(), lr=lr, weight_decay=0.0001)"
   ]
  },
  {
   "cell_type": "code",
   "execution_count": 25,
   "metadata": {},
   "outputs": [],
   "source": [
    "EPOCHS = 100"
   ]
  },
  {
   "cell_type": "code",
   "execution_count": 26,
   "metadata": {},
   "outputs": [
    {
     "name": "stdout",
     "output_type": "stream",
     "text": [
      "Epoch 0: Validation loss decreased (inf --> 156721.672863).  Saving model ...\n",
      "\t Train_Loss: 125596.6049 Train_Acc: 54.333 Val_Loss: 156721.6729  BEST VAL Loss: 156721.6729  Val_Acc: 39.378\n",
      "\n",
      "Epoch 1: Validation loss decreased (156721.672863 --> 103963.336346).  Saving model ...\n",
      "\t Train_Loss: 101606.0892 Train_Acc: 56.809 Val_Loss: 103963.3363  BEST VAL Loss: 103963.3363  Val_Acc: 37.824\n",
      "\n",
      "Epoch 2: Validation loss decreased (103963.336346 --> 94196.020175).  Saving model ...\n",
      "\t Train_Loss: 81355.0529 Train_Acc: 56.465 Val_Loss: 94196.0202  BEST VAL Loss: 94196.0202  Val_Acc: 43.523\n",
      "\n",
      "Epoch 3: Validation loss decreased (94196.020175 --> 93778.584615).  Saving model ...\n",
      "\t Train_Loss: 74659.6546 Train_Acc: 56.121 Val_Loss: 93778.5846  BEST VAL Loss: 93778.5846  Val_Acc: 42.487\n",
      "\n",
      "Epoch 4: Validation loss decreased (93778.584615 --> 86560.578870).  Saving model ...\n",
      "\t Train_Loss: 64710.0351 Train_Acc: 57.634 Val_Loss: 86560.5789  BEST VAL Loss: 86560.5789  Val_Acc: 40.933\n",
      "\n",
      "Epoch 5: Validation loss decreased (86560.578870 --> 84914.218614).  Saving model ...\n",
      "\t Train_Loss: 55162.6281 Train_Acc: 58.047 Val_Loss: 84914.2186  BEST VAL Loss: 84914.2186  Val_Acc: 40.415\n",
      "\n",
      "Epoch 6: Validation loss did not decrease\n",
      "\t Train_Loss: 49125.6334 Train_Acc: 57.634 Val_Loss: 86406.3612  BEST VAL Loss: 84914.2186  Val_Acc: 42.487\n",
      "\n",
      "Epoch 7: Validation loss did not decrease\n",
      "\t Train_Loss: 43720.4803 Train_Acc: 58.184 Val_Loss: 91230.6423  BEST VAL Loss: 84914.2186  Val_Acc: 43.523\n",
      "\n",
      "Epoch 8: Validation loss did not decrease\n",
      "\t Train_Loss: 41425.7181 Train_Acc: 57.909 Val_Loss: 112530.8943  BEST VAL Loss: 84914.2186  Val_Acc: 41.969\n",
      "\n",
      "Epoch 9: Validation loss did not decrease\n",
      "\t Train_Loss: 37622.7379 Train_Acc: 58.459 Val_Loss: 118350.8708  BEST VAL Loss: 84914.2186  Val_Acc: 41.969\n",
      "\n",
      "Epoch 10: Validation loss did not decrease\n",
      "\t Train_Loss: 34748.3229 Train_Acc: 57.634 Val_Loss: 131143.7179  BEST VAL Loss: 84914.2186  Val_Acc: 43.523\n",
      "\n",
      "Epoch 11: Validation loss did not decrease\n",
      "\t Train_Loss: 31914.4629 Train_Acc: 59.354 Val_Loss: 135508.7686  BEST VAL Loss: 84914.2186  Val_Acc: 41.451\n",
      "\n",
      "Epoch 12: Validation loss did not decrease\n",
      "\t Train_Loss: 29583.4924 Train_Acc: 57.978 Val_Loss: 138112.2315  BEST VAL Loss: 84914.2186  Val_Acc: 40.933\n",
      "\n",
      "Epoch 13: Validation loss did not decrease\n",
      "\t Train_Loss: 27588.2875 Train_Acc: 59.147 Val_Loss: 139397.0852  BEST VAL Loss: 84914.2186  Val_Acc: 43.523\n",
      "\n",
      "Epoch 14: Validation loss did not decrease\n",
      "\t Train_Loss: 25764.3716 Train_Acc: 58.047 Val_Loss: 137226.1105  BEST VAL Loss: 84914.2186  Val_Acc: 42.487\n",
      "\n",
      "Epoch 15: Validation loss did not decrease\n",
      "\t Train_Loss: 24158.0994 Train_Acc: 58.735 Val_Loss: 133575.3359  BEST VAL Loss: 84914.2186  Val_Acc: 42.487\n",
      "\n",
      "Epoch 16: Validation loss did not decrease\n",
      "\t Train_Loss: 22751.1358 Train_Acc: 57.703 Val_Loss: 130519.3488  BEST VAL Loss: 84914.2186  Val_Acc: 44.041\n",
      "\n",
      "Epoch 17: Validation loss did not decrease\n",
      "\t Train_Loss: 21955.8447 Train_Acc: 56.327 Val_Loss: 128574.9873  BEST VAL Loss: 84914.2186  Val_Acc: 44.560\n",
      "\n",
      "Epoch 18: Validation loss did not decrease\n",
      "\t Train_Loss: 20916.3328 Train_Acc: 57.978 Val_Loss: 127215.0446  BEST VAL Loss: 84914.2186  Val_Acc: 43.005\n",
      "\n",
      "Epoch 19: Validation loss did not decrease\n",
      "\t Train_Loss: 20222.8649 Train_Acc: 55.846 Val_Loss: 127570.7654  BEST VAL Loss: 84914.2186  Val_Acc: 44.041\n",
      "\n",
      "Epoch 20: Validation loss did not decrease\n",
      "\t Train_Loss: 19287.3746 Train_Acc: 57.015 Val_Loss: 125077.5206  BEST VAL Loss: 84914.2186  Val_Acc: 42.487\n",
      "\n",
      "Epoch 21: Validation loss did not decrease\n",
      "Early stopped at epoch : 21\n"
     ]
    }
   ],
   "source": [
    "# Model Training\n",
    "\n",
    "early_stopping_patience = 15\n",
    "early_stopping_counter = 0\n",
    "\n",
    "train_acc = []\n",
    "train_loss = []\n",
    "\n",
    "valid_acc = []\n",
    "valid_loss = []\n",
    "\n",
    "total_step = len(train_loader)\n",
    "total_step_val = len(valid_loader)\n",
    "\n",
    "valid_loss_min=np.inf\n",
    "\n",
    "for epoch in range(EPOCHS):\n",
    "    \n",
    "    running_loss=0\n",
    "    correct=0\n",
    "    total=0\n",
    "    \n",
    "    #TRAINING\n",
    "\n",
    "    model.train()\n",
    "\n",
    "    for batch_idx, (X_train_batch, y_train_batch) in enumerate(train_loader):\n",
    "        X_train_batch, y_train_batch = X_train_batch.to(DEVICE), y_train_batch.to(DEVICE)\n",
    "        optimizer.zero_grad()\n",
    "        output = model(X_train_batch)\n",
    "        y_pred = torch.round(torch.sigmoid(output))\n",
    "        #LOSS\n",
    "        loss = criterion(output, y_train_batch.unsqueeze(1))\n",
    "        loss.backward()\n",
    "        optimizer.step()\n",
    "        running_loss+=loss.item() #sum loss for every batch\n",
    "        #ACCURACY\n",
    "        correct += torch.sum(y_pred==y_train_batch.unsqueeze(1)).item()\n",
    "        total += y_train_batch.size(0)\n",
    "    train_acc.append(100 * correct / total) #calculate accuracy among all entries in the batches\n",
    "    train_loss.append(running_loss/total_step)  #get average loss among all batches dividing total loss by the number of batches\n",
    "\n",
    "    # VALIDATION\n",
    "    correct_v = 0\n",
    "    total_v = 0\n",
    "    batch_loss = 0\n",
    "    with torch.no_grad():\n",
    "        model.eval()\n",
    "        for batch_idx, (X_valid_batch, y_valid_batch) in enumerate(valid_loader):\n",
    "            X_valid_batch,y_valid_batch=X_valid_batch.to(DEVICE),y_valid_batch.to(DEVICE)\n",
    "            #PREDICTION\n",
    "            output = model(X_valid_batch)\n",
    "            y_pred = torch.round(torch.sigmoid(output))\n",
    "            #LOSS\n",
    "            loss_v = criterion(output, y_valid_batch.unsqueeze(1))\n",
    "            batch_loss+=loss_v.item()\n",
    "            #ACCURACY\n",
    "            correct_v += torch.sum(y_pred==y_valid_batch.unsqueeze(1)).item()\n",
    "            total_v += y_valid_batch.size(0)\n",
    "        valid_acc.append(100 * correct_v / total_v) \n",
    "        valid_loss.append(batch_loss/total_step_val)\n",
    "    \n",
    "    \n",
    "    if np.mean(valid_loss) <= valid_loss_min:\n",
    "        torch.save(model.state_dict(), '/home/bmlserver/jk/iPynb/mmF_Final/savedModel/outMed_state_dict.pt')\n",
    "        print(f'Epoch {epoch + 0:01}: Validation loss decreased ({valid_loss_min:.6f} --> {np.mean(valid_loss):.6f}).  Saving model ...')\n",
    "        valid_loss_min = np.mean(valid_loss)\n",
    "        early_stopping_counter=0 #reset counter if validation loss decreases\n",
    "    else:\n",
    "        print(f'Epoch {epoch + 0:01}: Validation loss did not decrease')\n",
    "        early_stopping_counter+=1\n",
    "\n",
    "    if early_stopping_counter > early_stopping_patience:\n",
    "        print('Early stopped at epoch :', epoch)\n",
    "        break\n",
    "\n",
    "    print(f'\\t Train_Loss: {np.mean(train_loss):.4f} Train_Acc: {(100 * correct / total):.3f} Val_Loss: {np.mean(valid_loss):.4f}  BEST VAL Loss: {valid_loss_min:.4f}  Val_Acc: {(100 * correct_v / total_v):.3f}\\n')"
   ]
  },
  {
   "cell_type": "code",
   "execution_count": 27,
   "metadata": {},
   "outputs": [],
   "source": [
    "y_pred_prob_list = []\n",
    "y_pred_list = []\n",
    "\n",
    "\n",
    "# Loading the best model\n",
    "model.load_state_dict(torch.load('/home/bmlserver/jk/iPynb/mmF_Final/savedModel/outMed_state_dict.pt'))\n",
    "\n",
    "with torch.no_grad():\n",
    "        model.eval()\n",
    "        for batch_idx, (X_test_batch, y_test_batch) in enumerate(test_loader):\n",
    "            X_test_batch = X_test_batch.to(DEVICE)\n",
    "            #PREDICTION\n",
    "            output = model(X_test_batch)\n",
    "            y_pred_prob = torch.sigmoid(output)\n",
    "            y_pred_prob_list.append(y_pred_prob.cpu().numpy())\n",
    "            y_pred = torch.round(y_pred_prob)\n",
    "            y_pred_list.append(y_pred.cpu().numpy())"
   ]
  },
  {
   "cell_type": "code",
   "execution_count": 28,
   "metadata": {},
   "outputs": [],
   "source": [
    "outMed_pred = [a.tolist() for a in y_pred_prob_list]\n",
    "\n",
    "outMed_pred_np = np.array(outMed_pred)\n",
    "\n",
    "outMed_predTT = outMed_pred_np.reshape((190, 1))\n",
    "\n",
    "np.savetxt('outMed_pred.csv',outMed_predTT,delimiter=\",\")"
   ]
  },
  {
   "cell_type": "code",
   "execution_count": 30,
   "metadata": {},
   "outputs": [
    {
     "name": "stdout",
     "output_type": "stream",
     "text": [
      "Stored 'outMed_predTT' (ndarray)\n"
     ]
    }
   ],
   "source": [
    "# outMed_predTT\n",
    "\n",
    "# %store outMed_predTT"
   ]
  },
  {
   "cell_type": "code",
   "execution_count": 29,
   "metadata": {},
   "outputs": [],
   "source": [
    "# y_pred_prob_list = [a.squeeze().tolist() for a in y_pred_prob_list]\n",
    "# y_pred_list = [a.squeeze().tolist() for a in y_pred_list]"
   ]
  },
  {
   "cell_type": "code",
   "execution_count": null,
   "metadata": {},
   "outputs": [],
   "source": []
  }
 ],
 "metadata": {
  "interpreter": {
   "hash": "1c8a573545fa7324502f2b11294db4f50d401dc4d1e743003ac21faacdb8f11f"
  },
  "kernelspec": {
   "display_name": "jk",
   "language": "python",
   "name": "jk"
  },
  "language_info": {
   "codemirror_mode": {
    "name": "ipython",
    "version": 3
   },
   "file_extension": ".py",
   "mimetype": "text/x-python",
   "name": "python",
   "nbconvert_exporter": "python",
   "pygments_lexer": "ipython3",
   "version": "3.8.13"
  },
  "orig_nbformat": 4
 },
 "nbformat": 4,
 "nbformat_minor": 2
}
