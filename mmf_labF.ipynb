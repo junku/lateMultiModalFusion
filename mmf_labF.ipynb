{
 "cells": [
  {
   "cell_type": "code",
   "execution_count": 1,
   "metadata": {},
   "outputs": [],
   "source": [
    "import pandas as pd\n",
    "pd.options.mode.chained_assignment = None  # default='warn'\n",
    "import numpy as np\n",
    "import seaborn as sns\n",
    "import matplotlib.pyplot as plt\n",
    "import plotly.graph_objects as go\n",
    "from plotly.subplots import make_subplots\n",
    "import plotly.express as px\n",
    "\n",
    "from sklearn.utils import shuffle\n",
    "from sklearn.model_selection import train_test_split\n",
    "from sklearn.preprocessing import StandardScaler\n",
    "from sklearn.preprocessing import QuantileTransformer\n",
    "from sklearn.metrics import confusion_matrix, classification_report\n",
    "from sklearn.impute import KNNImputer\n",
    "\n",
    "from sklearn.decomposition import PCA\n",
    "\n",
    "import torch\n",
    "from torch import nn\n",
    "from torch.nn import functional as F\n",
    "from torch.utils.data import Dataset,DataLoader\n",
    "import torch.optim as optim\n",
    "\n",
    "\n",
    "import optuna\n",
    "from optuna.trial import TrialState\n",
    "\n",
    "##BONUS: PYTORCH LIGHTNING\n",
    "from pytorch_lightning.core.lightning import LightningModule\n",
    "from pytorch_lightning import Trainer\n",
    "from pytorch_lightning.loggers import TensorBoardLogger\n",
    "from pytorch_lightning.callbacks.early_stopping import EarlyStopping\n",
    "\n",
    "\n",
    "\n",
    "from sklearn.metrics import roc_auc_score, f1_score, precision_score, recall_score, accuracy_score, auc, roc_curve, accuracy_score\n",
    "\n",
    "seed=42 \n",
    "\n",
    "\n",
    "plt.style.use(\"seaborn-whitegrid\")\n",
    "plt.rc(\"figure\", autolayout=True)\n",
    "plt.rc(\"axes\", labelweight=\"bold\", labelsize=\"large\", titleweight=\"bold\", titlesize=14, titlepad=10)"
   ]
  },
  {
   "cell_type": "code",
   "execution_count": 2,
   "metadata": {},
   "outputs": [],
   "source": [
    "def get_scores(y, y_pred):\n",
    "    data={'Accuracy': np.round(accuracy_score(y, y_pred),2),\n",
    "    'Precision':np.round(precision_score(y, y_pred),2),\n",
    "    'Recall':np.round(recall_score(y, y_pred),2),\n",
    "    'F1':np.round(f1_score(y, y_pred),2),\n",
    "    'ROC AUC':np.round(roc_auc_score(y, y_pred),2)}\n",
    "    scores_df = pd.Series(data).to_frame('scores')\n",
    "    return scores_df"
   ]
  },
  {
   "cell_type": "code",
   "execution_count": 3,
   "metadata": {},
   "outputs": [],
   "source": [
    "df = pd.read_csv('sample_lab.csv')\n",
    "df = pd.get_dummies(df)\n",
    "\n",
    "train_data = df[df['split_train'] == 1]\n",
    "val_data = df[df['split_val'] == 1]\n",
    "test_data = df[df['split_test']== 1]\n",
    "\n",
    "X = df.drop(columns=['label', 'split_test', 'split_train', 'split_val', 'pe_type_central', 'pe_type_segmental', 'pe_type_subsegmental', 'pred', 'Unnamed: 0', 'idx'], axis=1)\n",
    "Y = df['label']"
   ]
  },
  {
   "cell_type": "code",
   "execution_count": 4,
   "metadata": {},
   "outputs": [],
   "source": [
    "X_train = train_data.drop(columns=['label', 'split_test', 'split_train', 'split_val', 'pe_type_central', 'pe_type_segmental', 'pe_type_subsegmental', 'pred', 'Unnamed: 0', 'idx'], axis=1)\n",
    "X_val = val_data.drop(columns=['label', 'split_test', 'split_train', 'split_val', 'pe_type_central', 'pe_type_segmental', 'pe_type_subsegmental', 'pred', 'Unnamed: 0', 'idx'], axis=1)\n",
    "X_test = test_data.drop(columns=['label', 'split_test', 'split_train', 'split_val', 'pe_type_central', 'pe_type_segmental', 'pe_type_subsegmental', 'pred', 'Unnamed: 0', 'idx'], axis=1)\n",
    "\n",
    "y_train = train_data['label']\n",
    "y_val = val_data['label']\n",
    "y_test = test_data['label']"
   ]
  },
  {
   "cell_type": "code",
   "execution_count": 5,
   "metadata": {},
   "outputs": [
    {
     "data": {
      "text/plain": [
       "(1454, 42)"
      ]
     },
     "execution_count": 5,
     "metadata": {},
     "output_type": "execute_result"
    }
   ],
   "source": [
    "X_train.shape"
   ]
  },
  {
   "cell_type": "code",
   "execution_count": 6,
   "metadata": {},
   "outputs": [],
   "source": [
    "scaler = StandardScaler()   \n",
    "X_train = scaler.fit_transform(X_train)\n",
    "X_val = scaler.transform(X_val)          \n",
    "X_test = scaler.transform(X_test)"
   ]
  },
  {
   "cell_type": "code",
   "execution_count": 7,
   "metadata": {},
   "outputs": [],
   "source": [
    "pca = PCA()\n",
    "pca.fit_transform(X_train);"
   ]
  },
  {
   "cell_type": "code",
   "execution_count": 8,
   "metadata": {},
   "outputs": [
    {
     "data": {
      "image/png": "[encoded data removed]",
      "text/plain": [
       "<Figure size 360x360 with 1 Axes>"
      ]
     },
     "metadata": {},
     "output_type": "display_data"
    }
   ],
   "source": [
    "cum_sum = np.cumsum(pca.explained_variance_ratio_)*100\n",
    "comp= [n for n in range(len(cum_sum))]\n",
    "\n",
    "plt.figure(figsize=(5,5))\n",
    "plt.plot(comp, cum_sum, marker='.')\n",
    "plt.xlabel('PCA Components')\n",
    "plt.ylabel('Cumulative Explained Variance (%)')\n",
    "plt.title('PCA')\n",
    "plt.show()"
   ]
  },
  {
   "cell_type": "code",
   "execution_count": 9,
   "metadata": {},
   "outputs": [
    {
     "name": "stdout",
     "output_type": "stream",
     "text": [
      "cuda:0\n"
     ]
    }
   ],
   "source": [
    "DEVICE = torch.device(\"cuda:0\" if torch.cuda.is_available() else \"cpu\")\n",
    "print(DEVICE)"
   ]
  },
  {
   "cell_type": "code",
   "execution_count": 10,
   "metadata": {},
   "outputs": [],
   "source": [
    "class CustomDataset:\n",
    "    def __init__(self, X_data, y_data, device=DEVICE):\n",
    "        self.X_data = X_data\n",
    "        self.y_data = y_data \n",
    "    \n",
    "    def __len__ (self):\n",
    "        return len(self.X_data)\n",
    "    \n",
    "    def __getitem__(self, index):\n",
    "        return self.X_data[index], self.y_data[index]"
   ]
  },
  {
   "cell_type": "code",
   "execution_count": 11,
   "metadata": {},
   "outputs": [],
   "source": [
    "train_data = CustomDataset(torch.FloatTensor(X_train), torch.FloatTensor(y_train.values))"
   ]
  },
  {
   "cell_type": "code",
   "execution_count": 12,
   "metadata": {},
   "outputs": [],
   "source": [
    "val_data = CustomDataset(torch.FloatTensor(X_val), torch.FloatTensor(y_val.values))"
   ]
  },
  {
   "cell_type": "code",
   "execution_count": 13,
   "metadata": {},
   "outputs": [],
   "source": [
    "test_data = CustomDataset(torch.FloatTensor(X_test), torch.FloatTensor(y_test.values))"
   ]
  },
  {
   "cell_type": "code",
   "execution_count": 14,
   "metadata": {},
   "outputs": [],
   "source": [
    "BATCHSIZE = 8"
   ]
  },
  {
   "cell_type": "code",
   "execution_count": 15,
   "metadata": {},
   "outputs": [],
   "source": [
    "train_loader = DataLoader(dataset=train_data, batch_size=BATCHSIZE)\n",
    "valid_loader = DataLoader(dataset=val_data, batch_size=2)\n",
    "test_loader = DataLoader(dataset=test_data, batch_size=2)"
   ]
  },
  {
   "cell_type": "code",
   "execution_count": 16,
   "metadata": {},
   "outputs": [],
   "source": [
    "def define_model(trial):\n",
    "    n_layers = trial.suggest_int(\"n_layers\", 1, 2)\n",
    "    layers = []\n",
    "\n",
    "    in_features = 42\n",
    "    for i in range(n_layers):\n",
    "        out_features = trial.suggest_int(\"n_units_{}\".format(i), 8, 25)\n",
    "        layers.append(nn.Linear(in_features, out_features))\n",
    "        layers.append(nn.ReLU())\n",
    "        p = trial.suggest_uniform(\"dropout_{}\".format(i), 0.2, 0.5)\n",
    "        layers.append(nn.Dropout(p))\n",
    "        in_features=out_features\n",
    "    layers.append(nn.Linear(out_features, 1))\n",
    "\n",
    "    return nn.Sequential(*layers)"
   ]
  },
  {
   "cell_type": "code",
   "execution_count": 17,
   "metadata": {},
   "outputs": [],
   "source": [
    "EPOCHS = 40"
   ]
  },
  {
   "cell_type": "code",
   "execution_count": 18,
   "metadata": {},
   "outputs": [],
   "source": [
    "def objective(trial):\n",
    "    \n",
    "    # call the define_model method\n",
    "    model = define_model(trial).to(DEVICE)\n",
    "\n",
    "    # Optimizer and loss definition\n",
    "    lr = trial.suggest_float(\"lr\", 5e-4, 1e-2, log=True)\n",
    "    optimizer =  getattr(optim, 'Adam')(model.parameters(), lr=lr)\n",
    "    criterion = nn.BCEWithLogitsLoss() \n",
    "    # Using the logit binary CE, we include the sigmoid function in the prediction output during the loss calculation\n",
    "    \n",
    "    train_acc = []\n",
    "    train_loss = []\n",
    "    \n",
    "    valid_acc = []\n",
    "    valid_loss = []\n",
    "    \n",
    "    total_step = len(train_loader)\n",
    "    total_step_val = len(valid_loader)\n",
    "\n",
    "    for epoch in range(EPOCHS):\n",
    "        \n",
    "        running_loss=0\n",
    "        correct=0\n",
    "        total=0\n",
    "        \n",
    "        #TRAINING\n",
    "\n",
    "        model.train()\n",
    "\n",
    "        for batch_idx, (X_train_batch, y_train_batch) in enumerate(train_loader):\n",
    "            X_train_batch, y_train_batch = X_train_batch.to(DEVICE), y_train_batch.to(DEVICE)\n",
    "            optimizer.zero_grad()\n",
    "            output = model(X_train_batch)\n",
    "            y_pred = torch.round(torch.sigmoid(output))\n",
    "            #LOSS\n",
    "            loss = criterion(output, y_train_batch.unsqueeze(1))\n",
    "            loss.backward()\n",
    "            optimizer.step()\n",
    "            running_loss+=loss.item() #sum all batch losses\n",
    "            #ACCURACY\n",
    "            correct += torch.sum(y_pred==y_train_batch.unsqueeze(1)).item()\n",
    "            total += y_train_batch.size(0)\n",
    "        train_acc.append(100 * correct / total) \n",
    "        train_loss.append(running_loss/total_step) #get average loss among all batches dividing total loss by the number of batches\n",
    "\n",
    "        # VALIDATION\n",
    "        correct_v = 0\n",
    "        total_v = 0\n",
    "        batch_loss = 0\n",
    "        with torch.no_grad():\n",
    "            model.eval()\n",
    "            for batch_idx, (X_valid_batch, y_valid_batch) in enumerate(valid_loader):\n",
    "                X_valid_batch,y_valid_batch=X_valid_batch.to(DEVICE),y_valid_batch.to(DEVICE)\n",
    "                #PREDICTION\n",
    "                output = model(X_valid_batch)\n",
    "                y_pred = torch.round(torch.sigmoid(output))\n",
    "                #LOSS\n",
    "                loss_v = criterion(output, y_valid_batch.unsqueeze(1))\n",
    "                batch_loss+=loss_v.item()\n",
    "                #ACCURACY\n",
    "                correct_v += torch.sum(y_pred==y_valid_batch.unsqueeze(1)).item()\n",
    "                total_v += y_valid_batch.size(0)\n",
    "            valid_acc.append(100 * correct_v / total_v)\n",
    "            valid_loss.append(batch_loss/total_step_val)\n",
    "\n",
    "        trial.report(np.mean(valid_loss), epoch)\n",
    "\n",
    "        # Handle pruning based on the intermediate value\n",
    "        if trial.should_prune():\n",
    "            raise optuna.exceptions.TrialPruned()\n",
    "            \n",
    "    return np.mean(valid_acc)"
   ]
  },
  {
   "cell_type": "code",
   "execution_count": 19,
   "metadata": {},
   "outputs": [
    {
     "name": "stderr",
     "output_type": "stream",
     "text": [
      "\u001b[32m[I 2022-04-16 16:07:22,093]\u001b[0m A new study created in memory with name: no-name-baac081b-3161-41d1-9c8a-0bbf1d767131\u001b[0m\n",
      "\u001b[32m[I 2022-04-16 16:07:51,372]\u001b[0m Trial 0 finished with value: 49.79274611398964 and parameters: {'n_layers': 1, 'n_units_0': 25, 'dropout_0': 0.3705994436131766, 'lr': 0.0008390910942424398}. Best is trial 0 with value: 49.79274611398964.\u001b[0m\n",
      "\u001b[32m[I 2022-04-16 16:08:19,651]\u001b[0m Trial 1 finished with value: 52.901554404145074 and parameters: {'n_layers': 1, 'n_units_0': 25, 'dropout_0': 0.2749725331133326, 'lr': 0.004496901944951113}. Best is trial 1 with value: 52.901554404145074.\u001b[0m\n",
      "\u001b[32m[I 2022-04-16 16:08:52,172]\u001b[0m Trial 2 finished with value: 48.082901554404145 and parameters: {'n_layers': 2, 'n_units_0': 10, 'dropout_0': 0.25014953659985995, 'n_units_1': 24, 'dropout_1': 0.3674878672238483, 'lr': 0.0005154573881141791}. Best is trial 1 with value: 52.901554404145074.\u001b[0m\n",
      "\u001b[32m[I 2022-04-16 16:09:26,149]\u001b[0m Trial 3 finished with value: 47.64248704663212 and parameters: {'n_layers': 2, 'n_units_0': 21, 'dropout_0': 0.4734119919045249, 'n_units_1': 19, 'dropout_1': 0.31351587705054457, 'lr': 0.0005393100122746635}. Best is trial 1 with value: 52.901554404145074.\u001b[0m\n",
      "\u001b[32m[I 2022-04-16 16:09:54,607]\u001b[0m Trial 4 finished with value: 51.30829015544041 and parameters: {'n_layers': 1, 'n_units_0': 17, 'dropout_0': 0.24891027361886978, 'lr': 0.000841837292685328}. Best is trial 1 with value: 52.901554404145074.\u001b[0m\n",
      "\u001b[32m[I 2022-04-16 16:09:58,596]\u001b[0m Trial 5 pruned. \u001b[0m\n",
      "\u001b[32m[I 2022-04-16 16:10:31,723]\u001b[0m Trial 6 finished with value: 49.00259067357513 and parameters: {'n_layers': 2, 'n_units_0': 17, 'dropout_0': 0.3398181216000764, 'n_units_1': 11, 'dropout_1': 0.3486568426439701, 'lr': 0.0032132590017274554}. Best is trial 1 with value: 52.901554404145074.\u001b[0m\n",
      "\u001b[32m[I 2022-04-16 16:10:59,731]\u001b[0m Trial 7 finished with value: 46.28238341968912 and parameters: {'n_layers': 2, 'n_units_0': 18, 'dropout_0': 0.44873726744294923, 'n_units_1': 21, 'dropout_1': 0.2757580424623271, 'lr': 0.00925461358750801}. Best is trial 1 with value: 52.901554404145074.\u001b[0m\n",
      "\u001b[32m[I 2022-04-16 16:11:26,803]\u001b[0m Trial 8 pruned. \u001b[0m\n",
      "\u001b[32m[I 2022-04-16 16:11:30,287]\u001b[0m Trial 9 pruned. \u001b[0m\n",
      "\u001b[32m[I 2022-04-16 16:11:57,663]\u001b[0m Trial 10 finished with value: 52.91450777202071 and parameters: {'n_layers': 1, 'n_units_0': 25, 'dropout_0': 0.20967077410492416, 'lr': 0.002468510784062147}. Best is trial 10 with value: 52.91450777202071.\u001b[0m\n",
      "\u001b[32m[I 2022-04-16 16:12:25,221]\u001b[0m Trial 11 finished with value: 52.292746113989644 and parameters: {'n_layers': 1, 'n_units_0': 25, 'dropout_0': 0.2028784088527808, 'lr': 0.002753222441484061}. Best is trial 10 with value: 52.91450777202071.\u001b[0m\n",
      "\u001b[32m[I 2022-04-16 16:12:53,103]\u001b[0m Trial 12 finished with value: 51.101036269430054 and parameters: {'n_layers': 1, 'n_units_0': 22, 'dropout_0': 0.3042383930571626, 'lr': 0.004302504140969226}. Best is trial 10 with value: 52.91450777202071.\u001b[0m\n",
      "\u001b[32m[I 2022-04-16 16:12:57,334]\u001b[0m Trial 13 pruned. \u001b[0m\n",
      "\u001b[32m[I 2022-04-16 16:13:25,664]\u001b[0m Trial 14 finished with value: 52.5259067357513 and parameters: {'n_layers': 1, 'n_units_0': 23, 'dropout_0': 0.2875608613129527, 'lr': 0.0017184325445168405}. Best is trial 10 with value: 52.91450777202071.\u001b[0m\n",
      "\u001b[32m[I 2022-04-16 16:13:28,457]\u001b[0m Trial 15 pruned. \u001b[0m\n",
      "\u001b[32m[I 2022-04-16 16:13:56,425]\u001b[0m Trial 16 finished with value: 50.5958549222798 and parameters: {'n_layers': 1, 'n_units_0': 24, 'dropout_0': 0.2279411406017654, 'lr': 0.008832784153580799}. Best is trial 10 with value: 52.91450777202071.\u001b[0m\n",
      "\u001b[32m[I 2022-04-16 16:14:24,088]\u001b[0m Trial 17 finished with value: 51.075129533678755 and parameters: {'n_layers': 1, 'n_units_0': 20, 'dropout_0': 0.26221745817399966, 'lr': 0.0037286197226935425}. Best is trial 10 with value: 52.91450777202071.\u001b[0m\n",
      "\u001b[32m[I 2022-04-16 16:14:24,789]\u001b[0m Trial 18 pruned. \u001b[0m\n",
      "\u001b[32m[I 2022-04-16 16:14:52,249]\u001b[0m Trial 19 finished with value: 51.26943005181347 and parameters: {'n_layers': 1, 'n_units_0': 23, 'dropout_0': 0.2289140269849083, 'lr': 0.006771649854418768}. Best is trial 10 with value: 52.91450777202071.\u001b[0m\n",
      "\u001b[32m[I 2022-04-16 16:14:57,107]\u001b[0m Trial 20 pruned. \u001b[0m\n",
      "\u001b[32m[I 2022-04-16 16:14:59,195]\u001b[0m Trial 21 pruned. \u001b[0m\n",
      "\u001b[32m[I 2022-04-16 16:14:59,902]\u001b[0m Trial 22 pruned. \u001b[0m\n",
      "\u001b[32m[I 2022-04-16 16:15:04,077]\u001b[0m Trial 23 pruned. \u001b[0m\n",
      "\u001b[32m[I 2022-04-16 16:15:04,794]\u001b[0m Trial 24 pruned. \u001b[0m\n",
      "\u001b[32m[I 2022-04-16 16:15:05,502]\u001b[0m Trial 25 pruned. \u001b[0m\n",
      "\u001b[32m[I 2022-04-16 16:15:06,211]\u001b[0m Trial 26 pruned. \u001b[0m\n",
      "\u001b[32m[I 2022-04-16 16:15:33,745]\u001b[0m Trial 27 finished with value: 50.155440414507765 and parameters: {'n_layers': 1, 'n_units_0': 8, 'dropout_0': 0.28035120072841463, 'lr': 0.005151980126027458}. Best is trial 10 with value: 52.91450777202071.\u001b[0m\n",
      "\u001b[32m[I 2022-04-16 16:15:34,446]\u001b[0m Trial 28 pruned. \u001b[0m\n",
      "\u001b[32m[I 2022-04-16 16:15:35,155]\u001b[0m Trial 29 pruned. \u001b[0m\n",
      "\u001b[32m[I 2022-04-16 16:16:03,101]\u001b[0m Trial 30 finished with value: 52.61658031088084 and parameters: {'n_layers': 1, 'n_units_0': 24, 'dropout_0': 0.24910235678626447, 'lr': 0.003315216991729541}. Best is trial 10 with value: 52.91450777202071.\u001b[0m\n",
      "\u001b[32m[I 2022-04-16 16:16:30,978]\u001b[0m Trial 31 finished with value: 52.38341968911917 and parameters: {'n_layers': 1, 'n_units_0': 24, 'dropout_0': 0.25108089089819724, 'lr': 0.003327945341463427}. Best is trial 10 with value: 52.91450777202071.\u001b[0m\n",
      "\u001b[32m[I 2022-04-16 16:16:31,692]\u001b[0m Trial 32 pruned. \u001b[0m\n",
      "\u001b[32m[I 2022-04-16 16:16:32,414]\u001b[0m Trial 33 pruned. \u001b[0m\n",
      "\u001b[32m[I 2022-04-16 16:16:33,130]\u001b[0m Trial 34 pruned. \u001b[0m\n",
      "\u001b[32m[I 2022-04-16 16:16:33,844]\u001b[0m Trial 35 pruned. \u001b[0m\n",
      "\u001b[32m[I 2022-04-16 16:16:34,553]\u001b[0m Trial 36 pruned. \u001b[0m\n",
      "\u001b[32m[I 2022-04-16 16:16:35,353]\u001b[0m Trial 37 pruned. \u001b[0m\n",
      "\u001b[32m[I 2022-04-16 16:17:02,115]\u001b[0m Trial 38 finished with value: 51.73575129533678 and parameters: {'n_layers': 1, 'n_units_0': 15, 'dropout_0': 0.2646518293050549, 'lr': 0.002717194812486007}. Best is trial 10 with value: 52.91450777202071.\u001b[0m\n",
      "\u001b[32m[I 2022-04-16 16:17:02,904]\u001b[0m Trial 39 pruned. \u001b[0m\n",
      "\u001b[32m[I 2022-04-16 16:17:03,553]\u001b[0m Trial 40 pruned. \u001b[0m\n",
      "\u001b[32m[I 2022-04-16 16:17:28,652]\u001b[0m Trial 41 finished with value: 51.89119170984456 and parameters: {'n_layers': 1, 'n_units_0': 24, 'dropout_0': 0.24881653059614825, 'lr': 0.0030527620762433394}. Best is trial 10 with value: 52.91450777202071.\u001b[0m\n",
      "\u001b[32m[I 2022-04-16 16:17:29,300]\u001b[0m Trial 42 pruned. \u001b[0m\n",
      "\u001b[32m[I 2022-04-16 16:17:31,198]\u001b[0m Trial 43 pruned. \u001b[0m\n",
      "\u001b[32m[I 2022-04-16 16:17:31,842]\u001b[0m Trial 44 pruned. \u001b[0m\n",
      "\u001b[32m[I 2022-04-16 16:17:32,482]\u001b[0m Trial 45 pruned. \u001b[0m\n",
      "\u001b[32m[I 2022-04-16 16:17:33,199]\u001b[0m Trial 46 pruned. \u001b[0m\n",
      "\u001b[32m[I 2022-04-16 16:17:33,833]\u001b[0m Trial 47 pruned. \u001b[0m\n",
      "\u001b[32m[I 2022-04-16 16:17:36,975]\u001b[0m Trial 48 pruned. \u001b[0m\n",
      "\u001b[32m[I 2022-04-16 16:17:37,620]\u001b[0m Trial 49 pruned. \u001b[0m\n",
      "\u001b[32m[I 2022-04-16 16:17:39,511]\u001b[0m Trial 50 pruned. \u001b[0m\n",
      "\u001b[32m[I 2022-04-16 16:17:41,403]\u001b[0m Trial 51 pruned. \u001b[0m\n",
      "\u001b[32m[I 2022-04-16 16:17:42,044]\u001b[0m Trial 52 pruned. \u001b[0m\n",
      "\u001b[32m[I 2022-04-16 16:17:42,681]\u001b[0m Trial 53 pruned. \u001b[0m\n",
      "\u001b[32m[I 2022-04-16 16:17:43,297]\u001b[0m Trial 54 pruned. \u001b[0m\n",
      "\u001b[32m[I 2022-04-16 16:17:43,906]\u001b[0m Trial 55 pruned. \u001b[0m\n",
      "\u001b[32m[I 2022-04-16 16:17:45,791]\u001b[0m Trial 56 pruned. \u001b[0m\n",
      "\u001b[32m[I 2022-04-16 16:17:46,433]\u001b[0m Trial 57 pruned. \u001b[0m\n",
      "\u001b[32m[I 2022-04-16 16:17:47,076]\u001b[0m Trial 58 pruned. \u001b[0m\n",
      "\u001b[32m[I 2022-04-16 16:17:48,953]\u001b[0m Trial 59 pruned. \u001b[0m\n",
      "\u001b[32m[I 2022-04-16 16:17:49,576]\u001b[0m Trial 60 pruned. \u001b[0m\n",
      "\u001b[32m[I 2022-04-16 16:17:50,205]\u001b[0m Trial 61 pruned. \u001b[0m\n",
      "\u001b[32m[I 2022-04-16 16:18:15,004]\u001b[0m Trial 62 finished with value: 52.24093264248705 and parameters: {'n_layers': 1, 'n_units_0': 24, 'dropout_0': 0.27291303058332456, 'lr': 0.0021891678818591067}. Best is trial 10 with value: 52.91450777202071.\u001b[0m\n",
      "\u001b[32m[I 2022-04-16 16:18:15,649]\u001b[0m Trial 63 pruned. \u001b[0m\n",
      "\u001b[32m[I 2022-04-16 16:18:16,293]\u001b[0m Trial 64 pruned. \u001b[0m\n",
      "\u001b[32m[I 2022-04-16 16:18:18,178]\u001b[0m Trial 65 pruned. \u001b[0m\n",
      "\u001b[32m[I 2022-04-16 16:18:20,016]\u001b[0m Trial 66 pruned. \u001b[0m\n",
      "\u001b[32m[I 2022-04-16 16:18:21,907]\u001b[0m Trial 67 pruned. \u001b[0m\n",
      "\u001b[32m[I 2022-04-16 16:18:22,552]\u001b[0m Trial 68 pruned. \u001b[0m\n",
      "\u001b[32m[I 2022-04-16 16:18:24,445]\u001b[0m Trial 69 pruned. \u001b[0m\n",
      "\u001b[32m[I 2022-04-16 16:18:25,168]\u001b[0m Trial 70 pruned. \u001b[0m\n",
      "\u001b[32m[I 2022-04-16 16:18:25,815]\u001b[0m Trial 71 pruned. \u001b[0m\n",
      "\u001b[32m[I 2022-04-16 16:18:26,460]\u001b[0m Trial 72 pruned. \u001b[0m\n",
      "\u001b[32m[I 2022-04-16 16:18:47,971]\u001b[0m Trial 73 finished with value: 52.215025906735754 and parameters: {'n_layers': 1, 'n_units_0': 25, 'dropout_0': 0.2615416342303854, 'lr': 0.0028825799505948187}. Best is trial 10 with value: 52.91450777202071.\u001b[0m\n",
      "\u001b[32m[I 2022-04-16 16:18:48,534]\u001b[0m Trial 74 pruned. \u001b[0m\n",
      "\u001b[32m[I 2022-04-16 16:18:50,181]\u001b[0m Trial 75 pruned. \u001b[0m\n",
      "\u001b[32m[I 2022-04-16 16:18:51,273]\u001b[0m Trial 76 pruned. \u001b[0m\n",
      "\u001b[32m[I 2022-04-16 16:18:51,829]\u001b[0m Trial 77 pruned. \u001b[0m\n",
      "\u001b[32m[I 2022-04-16 16:18:53,462]\u001b[0m Trial 78 pruned. \u001b[0m\n",
      "\u001b[32m[I 2022-04-16 16:18:55,648]\u001b[0m Trial 79 pruned. \u001b[0m\n",
      "\u001b[32m[I 2022-04-16 16:18:56,211]\u001b[0m Trial 80 pruned. \u001b[0m\n",
      "\u001b[32m[I 2022-04-16 16:18:56,770]\u001b[0m Trial 81 pruned. \u001b[0m\n",
      "\u001b[32m[I 2022-04-16 16:18:58,413]\u001b[0m Trial 82 pruned. \u001b[0m\n",
      "\u001b[32m[I 2022-04-16 16:19:00,055]\u001b[0m Trial 83 pruned. \u001b[0m\n",
      "\u001b[32m[I 2022-04-16 16:19:00,613]\u001b[0m Trial 84 pruned. \u001b[0m\n",
      "\u001b[32m[I 2022-04-16 16:19:21,510]\u001b[0m Trial 85 finished with value: 52.96632124352332 and parameters: {'n_layers': 1, 'n_units_0': 24, 'dropout_0': 0.21390507154735908, 'lr': 0.0031895485229186484}. Best is trial 85 with value: 52.96632124352332.\u001b[0m\n",
      "\u001b[32m[I 2022-04-16 16:19:22,075]\u001b[0m Trial 86 pruned. \u001b[0m\n",
      "\u001b[32m[I 2022-04-16 16:19:43,773]\u001b[0m Trial 87 finished with value: 52.823834196891184 and parameters: {'n_layers': 1, 'n_units_0': 25, 'dropout_0': 0.22096366855792277, 'lr': 0.0032219416273794876}. Best is trial 85 with value: 52.96632124352332.\u001b[0m\n",
      "\u001b[32m[I 2022-04-16 16:19:44,332]\u001b[0m Trial 88 pruned. \u001b[0m\n",
      "\u001b[32m[I 2022-04-16 16:19:44,889]\u001b[0m Trial 89 pruned. \u001b[0m\n",
      "\u001b[32m[I 2022-04-16 16:19:45,445]\u001b[0m Trial 90 pruned. \u001b[0m\n",
      "\u001b[32m[I 2022-04-16 16:19:46,000]\u001b[0m Trial 91 pruned. \u001b[0m\n",
      "\u001b[32m[I 2022-04-16 16:19:47,092]\u001b[0m Trial 92 pruned. \u001b[0m\n",
      "\u001b[32m[I 2022-04-16 16:19:49,807]\u001b[0m Trial 93 pruned. \u001b[0m\n",
      "\u001b[32m[I 2022-04-16 16:19:50,367]\u001b[0m Trial 94 pruned. \u001b[0m\n",
      "\u001b[32m[I 2022-04-16 16:19:50,925]\u001b[0m Trial 95 pruned. \u001b[0m\n",
      "\u001b[32m[I 2022-04-16 16:19:51,487]\u001b[0m Trial 96 pruned. \u001b[0m\n",
      "\u001b[32m[I 2022-04-16 16:20:13,124]\u001b[0m Trial 97 finished with value: 50.10362694300518 and parameters: {'n_layers': 1, 'n_units_0': 23, 'dropout_0': 0.2114227508163672, 'lr': 0.0006432297849088654}. Best is trial 85 with value: 52.96632124352332.\u001b[0m\n",
      "\u001b[32m[I 2022-04-16 16:20:13,683]\u001b[0m Trial 98 pruned. \u001b[0m\n",
      "\u001b[32m[I 2022-04-16 16:20:14,234]\u001b[0m Trial 99 pruned. \u001b[0m\n"
     ]
    },
    {
     "name": "stdout",
     "output_type": "stream",
     "text": [
      "Study statistics: \n",
      "  Number of finished trials:  100\n",
      "  Number of pruned trials:  76\n",
      "  Number of complete trials:  24\n",
      "Best trial:\n",
      "  Value:  52.96632124352332\n",
      "  Params: \n",
      "    n_layers: 1\n",
      "    n_units_0: 24\n",
      "    dropout_0: 0.21390507154735908\n",
      "    lr: 0.0031895485229186484\n"
     ]
    }
   ],
   "source": [
    "study = optuna.create_study(direction=\"maximize\")\n",
    "study.optimize(objective, n_trials=100)\n",
    "\n",
    "pruned_trials = study.get_trials(deepcopy=False, states=[TrialState.PRUNED])\n",
    "complete_trials = study.get_trials(deepcopy=False, states=[TrialState.COMPLETE])\n",
    "\n",
    "print(\"Study statistics: \")\n",
    "print(\"  Number of finished trials: \", len(study.trials))\n",
    "print(\"  Number of pruned trials: \", len(pruned_trials))\n",
    "print(\"  Number of complete trials: \", len(complete_trials))\n",
    "\n",
    "print(\"Best trial:\")\n",
    "trial = study.best_trial\n",
    "\n",
    "print(\"  Value: \", trial.value)\n",
    "\n",
    "print(\"  Params: \")\n",
    "\n",
    "params = []\n",
    "\n",
    "for key, value in trial.params.items():\n",
    "    params.append(value)\n",
    "    print(\"    {}: {}\".format(key, value))"
   ]
  },
  {
   "cell_type": "code",
   "execution_count": 20,
   "metadata": {},
   "outputs": [
    {
     "data": {
      "text/plain": [
       "[1, 24, 0.21390507154735908, 0.0031895485229186484]"
      ]
     },
     "execution_count": 20,
     "metadata": {},
     "output_type": "execute_result"
    }
   ],
   "source": [
    "params"
   ]
  },
  {
   "cell_type": "code",
   "execution_count": 22,
   "metadata": {},
   "outputs": [],
   "source": [
    "n_layers = params[0]\n",
    "\n",
    "units_1 = params[1]\n",
    "dropout_1 = np.round(params[2],5)\n",
    "\n",
    "lr = np.round(params[3],8)"
   ]
  },
  {
   "cell_type": "code",
   "execution_count": 23,
   "metadata": {},
   "outputs": [],
   "source": [
    "class Net(nn.Module):\n",
    "    def __init__(self):\n",
    "        super(Net, self).__init__()\n",
    "        self.layer_1 = nn.Linear(X_train.shape[1], units_1)\n",
    "        self.dropout1 = nn.Dropout(p=dropout_1)\n",
    "        self.layer_out = nn.Linear(units_1, 1)\n",
    "        \n",
    "    def forward(self, inputs):\n",
    "        x = F.relu(self.layer_1(inputs))\n",
    "        x = self.layer_out(x)\n",
    "        \n",
    "        return x"
   ]
  },
  {
   "cell_type": "code",
   "execution_count": 24,
   "metadata": {},
   "outputs": [
    {
     "name": "stdout",
     "output_type": "stream",
     "text": [
      "Net(\n",
      "  (layer_1): Linear(in_features=42, out_features=24, bias=True)\n",
      "  (dropout1): Dropout(p=0.21391, inplace=False)\n",
      "  (layer_out): Linear(in_features=24, out_features=1, bias=True)\n",
      ")\n"
     ]
    }
   ],
   "source": [
    "model = Net()\n",
    "model.to(DEVICE)\n",
    "print(model)"
   ]
  },
  {
   "cell_type": "code",
   "execution_count": 25,
   "metadata": {},
   "outputs": [],
   "source": [
    "criterion = nn.BCEWithLogitsLoss()\n",
    "optimizer = optim.AdamW(model.parameters(), lr=lr, weight_decay=0.0001)"
   ]
  },
  {
   "cell_type": "code",
   "execution_count": 26,
   "metadata": {},
   "outputs": [],
   "source": [
    "EPOCHS = 100"
   ]
  },
  {
   "cell_type": "code",
   "execution_count": 27,
   "metadata": {},
   "outputs": [
    {
     "name": "stdout",
     "output_type": "stream",
     "text": [
      "Epoch 0: Validation loss decreased (inf --> 0.737946).  Saving model ...\n",
      "\t Train_Loss: 0.6270 Train_Acc: 63.824 Val_Loss: 0.7379  BEST VAL Loss: 0.7379  Val_Acc: 45.596\n",
      "\n",
      "Epoch 1: Validation loss did not decrease\n",
      "\t Train_Loss: 0.6100 Train_Acc: 66.713 Val_Loss: 0.7380  BEST VAL Loss: 0.7379  Val_Acc: 47.150\n",
      "\n",
      "Epoch 2: Validation loss did not decrease\n",
      "\t Train_Loss: 0.6009 Train_Acc: 68.432 Val_Loss: 0.7403  BEST VAL Loss: 0.7379  Val_Acc: 48.187\n",
      "\n",
      "Epoch 3: Validation loss did not decrease\n",
      "\t Train_Loss: 0.5945 Train_Acc: 68.638 Val_Loss: 0.7418  BEST VAL Loss: 0.7379  Val_Acc: 47.150\n",
      "\n",
      "Epoch 4: Validation loss did not decrease\n",
      "\t Train_Loss: 0.5896 Train_Acc: 69.188 Val_Loss: 0.7437  BEST VAL Loss: 0.7379  Val_Acc: 47.668\n",
      "\n",
      "Epoch 5: Validation loss did not decrease\n",
      "\t Train_Loss: 0.5854 Train_Acc: 69.051 Val_Loss: 0.7460  BEST VAL Loss: 0.7379  Val_Acc: 48.705\n",
      "\n",
      "Epoch 6: Validation loss did not decrease\n",
      "\t Train_Loss: 0.5817 Train_Acc: 69.670 Val_Loss: 0.7483  BEST VAL Loss: 0.7379  Val_Acc: 49.223\n",
      "\n",
      "Epoch 7: Validation loss did not decrease\n",
      "\t Train_Loss: 0.5783 Train_Acc: 70.426 Val_Loss: 0.7509  BEST VAL Loss: 0.7379  Val_Acc: 48.705\n",
      "\n",
      "Epoch 8: Validation loss did not decrease\n",
      "\t Train_Loss: 0.5751 Train_Acc: 71.045 Val_Loss: 0.7532  BEST VAL Loss: 0.7379  Val_Acc: 50.259\n",
      "\n",
      "Epoch 9: Validation loss did not decrease\n",
      "\t Train_Loss: 0.5724 Train_Acc: 71.527 Val_Loss: 0.7553  BEST VAL Loss: 0.7379  Val_Acc: 50.259\n",
      "\n",
      "Epoch 10: Validation loss did not decrease\n",
      "\t Train_Loss: 0.5696 Train_Acc: 71.527 Val_Loss: 0.7575  BEST VAL Loss: 0.7379  Val_Acc: 50.777\n",
      "\n",
      "Epoch 11: Validation loss did not decrease\n",
      "\t Train_Loss: 0.5671 Train_Acc: 71.733 Val_Loss: 0.7599  BEST VAL Loss: 0.7379  Val_Acc: 50.777\n",
      "\n",
      "Epoch 12: Validation loss did not decrease\n",
      "\t Train_Loss: 0.5646 Train_Acc: 72.215 Val_Loss: 0.7655  BEST VAL Loss: 0.7379  Val_Acc: 50.777\n",
      "\n",
      "Epoch 13: Validation loss did not decrease\n",
      "\t Train_Loss: 0.5621 Train_Acc: 72.902 Val_Loss: 0.7772  BEST VAL Loss: 0.7379  Val_Acc: 49.223\n",
      "\n",
      "Epoch 14: Validation loss did not decrease\n",
      "\t Train_Loss: 0.5598 Train_Acc: 72.765 Val_Loss: 0.7787  BEST VAL Loss: 0.7379  Val_Acc: 50.259\n",
      "\n",
      "Epoch 15: Validation loss did not decrease\n",
      "\t Train_Loss: 0.5575 Train_Acc: 73.040 Val_Loss: 0.7982  BEST VAL Loss: 0.7379  Val_Acc: 50.259\n",
      "\n",
      "Epoch 16: Validation loss did not decrease\n",
      "Early stopped at epoch : 16\n"
     ]
    }
   ],
   "source": [
    "# Model Training\n",
    "\n",
    "early_stopping_patience = 15\n",
    "early_stopping_counter = 0\n",
    "\n",
    "train_acc = []\n",
    "train_loss = []\n",
    "\n",
    "valid_acc = []\n",
    "valid_loss = []\n",
    "\n",
    "total_step = len(train_loader)\n",
    "total_step_val = len(valid_loader)\n",
    "\n",
    "valid_loss_min=np.inf\n",
    "\n",
    "for epoch in range(EPOCHS):\n",
    "    \n",
    "    running_loss=0\n",
    "    correct=0\n",
    "    total=0\n",
    "    \n",
    "    #TRAINING\n",
    "\n",
    "    model.train()\n",
    "\n",
    "    for batch_idx, (X_train_batch, y_train_batch) in enumerate(train_loader):\n",
    "        X_train_batch, y_train_batch = X_train_batch.to(DEVICE), y_train_batch.to(DEVICE)\n",
    "        optimizer.zero_grad()\n",
    "        output = model(X_train_batch)\n",
    "        y_pred = torch.round(torch.sigmoid(output))\n",
    "        #LOSS\n",
    "        loss = criterion(output, y_train_batch.unsqueeze(1))\n",
    "        loss.backward()\n",
    "        optimizer.step()\n",
    "        running_loss+=loss.item() #sum loss for every batch\n",
    "        #ACCURACY\n",
    "        correct += torch.sum(y_pred==y_train_batch.unsqueeze(1)).item()\n",
    "        total += y_train_batch.size(0)\n",
    "    train_acc.append(100 * correct / total) #calculate accuracy among all entries in the batches\n",
    "    train_loss.append(running_loss/total_step)  #get average loss among all batches dividing total loss by the number of batches\n",
    "\n",
    "    # VALIDATION\n",
    "    correct_v = 0\n",
    "    total_v = 0\n",
    "    batch_loss = 0\n",
    "    with torch.no_grad():\n",
    "        model.eval()\n",
    "        for batch_idx, (X_valid_batch, y_valid_batch) in enumerate(valid_loader):\n",
    "            X_valid_batch,y_valid_batch=X_valid_batch.to(DEVICE),y_valid_batch.to(DEVICE)\n",
    "            #PREDICTION\n",
    "            output = model(X_valid_batch)\n",
    "            y_pred = torch.round(torch.sigmoid(output))\n",
    "            #LOSS\n",
    "            loss_v = criterion(output, y_valid_batch.unsqueeze(1))\n",
    "            batch_loss+=loss_v.item()\n",
    "            #ACCURACY\n",
    "            correct_v += torch.sum(y_pred==y_valid_batch.unsqueeze(1)).item()\n",
    "            total_v += y_valid_batch.size(0)\n",
    "        valid_acc.append(100 * correct_v / total_v) \n",
    "        valid_loss.append(batch_loss/total_step_val)\n",
    "    \n",
    "    \n",
    "    if np.mean(valid_loss) <= valid_loss_min:\n",
    "        torch.save(model.state_dict(), '/home/bmlserver/jk/iPynb/mmF_Final/savedModel/lab_state_dict.pt')\n",
    "        print(f'Epoch {epoch + 0:01}: Validation loss decreased ({valid_loss_min:.6f} --> {np.mean(valid_loss):.6f}).  Saving model ...')\n",
    "        valid_loss_min = np.mean(valid_loss)\n",
    "        early_stopping_counter=0 #reset counter if validation loss decreases\n",
    "    else:\n",
    "        print(f'Epoch {epoch + 0:01}: Validation loss did not decrease')\n",
    "        early_stopping_counter+=1\n",
    "\n",
    "    if early_stopping_counter > early_stopping_patience:\n",
    "        print('Early stopped at epoch :', epoch)\n",
    "        break\n",
    "\n",
    "    print(f'\\t Train_Loss: {np.mean(train_loss):.4f} Train_Acc: {(100 * correct / total):.3f} Val_Loss: {np.mean(valid_loss):.4f}  BEST VAL Loss: {valid_loss_min:.4f}  Val_Acc: {(100 * correct_v / total_v):.3f}\\n')"
   ]
  },
  {
   "cell_type": "code",
   "execution_count": 28,
   "metadata": {},
   "outputs": [],
   "source": [
    "y_pred_prob_list = []\n",
    "y_pred_list = []\n",
    "\n",
    "\n",
    "# Loading the best model\n",
    "model.load_state_dict(torch.load('/home/bmlserver/jk/iPynb/mmF_Final/savedModel/lab_state_dict.pt'))\n",
    "\n",
    "with torch.no_grad():\n",
    "        model.eval()\n",
    "        for batch_idx, (X_test_batch, y_test_batch) in enumerate(test_loader):\n",
    "            X_test_batch = X_test_batch.to(DEVICE)\n",
    "            #PREDICTION\n",
    "            output = model(X_test_batch)\n",
    "            y_pred_prob = torch.sigmoid(output)\n",
    "            y_pred_prob_list.append(y_pred_prob.cpu().numpy())\n",
    "            y_pred = torch.round(y_pred_prob)\n",
    "            y_pred_list.append(y_pred.cpu().numpy())"
   ]
  },
  {
   "cell_type": "code",
   "execution_count": 29,
   "metadata": {},
   "outputs": [],
   "source": [
    "lab_pred = [a.tolist() for a in y_pred_prob_list]\n",
    "\n",
    "lab_pred_np = np.array(lab_pred)\n",
    "\n",
    "lab_predTT = lab_pred_np.reshape((190, 1))\n",
    "\n",
    "np.savetxt('lab_pred.csv',lab_predTT,delimiter=\",\")"
   ]
  },
  {
   "cell_type": "code",
   "execution_count": 30,
   "metadata": {},
   "outputs": [
    {
     "name": "stdout",
     "output_type": "stream",
     "text": [
      "Stored 'lab_predTT' (ndarray)\n"
     ]
    }
   ],
   "source": [
    "lab_predTT\n",
    "\n",
    "%store lab_predTT"
   ]
  },
  {
   "cell_type": "code",
   "execution_count": null,
   "metadata": {},
   "outputs": [],
   "source": [
    "# y_pred_prob_list = [a.squeeze().tolist() for a in y_pred_prob_list]\n",
    "# y_pred_list = [a.squeeze().tolist() for a in y_pred_list]"
   ]
  },
  {
   "cell_type": "code",
   "execution_count": null,
   "metadata": {},
   "outputs": [],
   "source": []
  }
 ],
 "metadata": {
  "interpreter": {
   "hash": "1c8a573545fa7324502f2b11294db4f50d401dc4d1e743003ac21faacdb8f11f"
  },
  "kernelspec": {
   "display_name": "jk",
   "language": "python",
   "name": "jk"
  },
  "language_info": {
   "codemirror_mode": {
    "name": "ipython",
    "version": 3
   },
   "file_extension": ".py",
   "mimetype": "text/x-python",
   "name": "python",
   "nbconvert_exporter": "python",
   "pygments_lexer": "ipython3",
   "version": "3.8.13"
  },
  "orig_nbformat": 4
 },
 "nbformat": 4,
 "nbformat_minor": 2
}
